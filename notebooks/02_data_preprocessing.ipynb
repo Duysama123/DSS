{
 "cells": [
  {
   "cell_type": "code",
   "execution_count": null,
   "id": "a66b8761",
   "metadata": {},
   "outputs": [
    {
     "name": "stdout",
     "output_type": "stream",
     "text": [
      "Đã tách X (đặc trưng) và y_text (nhãn dạng text).\n",
      "Kích thước của X: (246945, 377)\n",
      "Kích thước của y_text: (246945,)\n"
     ]
    }
   ],
   "source": [
    "import pandas as pd\n",
    "data_path = '../data/raw/synthetic_disease_symptoms.csv'\n",
    "df = pd.read_csv(data_path)\n",
    "\n",
    "if not df.empty:\n",
    "    X = df.drop('diseases', axis=1)\n",
    "    y_text = df['diseases']\n",
    "    print(\"Đã tách X (đặc trưng) và y_text (nhãn dạng text).\")\n",
    "    print(\"Kích thước của X:\", X.shape)\n",
    "    print(\"Kích thước của y_text:\", y_text.shape)\n",
    "else:\n",
    "    print(\"DataFrame rỗng, không thể tiếp tục.\")\n",
    "    # Dừng hoặc xử lý lỗi"
   ]
  },
  {
   "cell_type": "code",
   "execution_count": 2,
   "id": "1b3106cb",
   "metadata": {},
   "outputs": [
    {
     "name": "stdout",
     "output_type": "stream",
     "text": [
      "\n",
      "Đã mã hóa nhãn 'Disease' thành dạng số.\n",
      "Ví dụ 5 giá trị y sau khi mã hóa: [531 531 531 531 531]\n",
      "Các lớp bệnh duy nhất mà encoder đã học: ['abdominal aortic aneurysm' 'abdominal hernia' 'abscess of nose'\n",
      " 'abscess of the lung' 'abscess of the pharynx' 'acanthosis nigricans'\n",
      " 'acariasis' 'achalasia' 'acne' 'actinic keratosis']\n",
      "LabelEncoder đã được lưu vào ../models/disease_label_encoder.pkl\n"
     ]
    }
   ],
   "source": [
    "from sklearn.preprocessing import LabelEncoder\n",
    "import joblib # Để lưu encoder\n",
    "\n",
    "if 'y_text' in locals() and not y_text.empty: # Kiểm tra y_text tồn tại và không rỗng\n",
    "    label_encoder = LabelEncoder()\n",
    "    y = label_encoder.fit_transform(y_text) # Fit và transform cột tên bệnh\n",
    "\n",
    "    print(\"\\nĐã mã hóa nhãn 'Disease' thành dạng số.\")\n",
    "    print(\"Ví dụ 5 giá trị y sau khi mã hóa:\", y[:5])\n",
    "    print(\"Các lớp bệnh duy nhất mà encoder đã học:\", label_encoder.classes_[:10]) # In ra 10 lớp đầu tiên\n",
    "\n",
    "    # Lưu LabelEncoder\n",
    "    model_dir = '../models/' # Đảm bảo thư mục này tồn tại\n",
    "    import os\n",
    "    os.makedirs(model_dir, exist_ok=True) # Tạo thư mục nếu chưa có\n",
    "    joblib.dump(label_encoder, os.path.join(model_dir, 'disease_label_encoder.pkl'))\n",
    "    print(f\"LabelEncoder đã được lưu vào {os.path.join(model_dir, 'disease_label_encoder.pkl')}\")\n",
    "else:\n",
    "    print(\"Không có y_text để mã hóa.\")"
   ]
  },
  {
   "cell_type": "code",
   "execution_count": 4,
   "id": "b8d55cb8",
   "metadata": {},
   "outputs": [
    {
     "name": "stdout",
     "output_type": "stream",
     "text": [
      "\n",
      "Các bệnh sau sẽ bị loại bỏ do có ít hơn 2 mẫu: ['turner syndrome', 'rocky mountain spotted fever', 'open wound of the cheek', 'high blood pressure', 'open wound due to trauma', 'open wound of the chest', 'huntington disease', 'open wound of the knee', 'foreign body in the nose', 'diabetes', 'thalassemia', 'heat stroke', 'gas gangrene', 'typhoid fever', 'open wound of the head', 'myocarditis', 'chronic ulcer', 'hypergammaglobulinemia', 'kaposi sarcoma']\n",
      "LabelEncoder MỚI (đã lọc) đã được lưu vào ../models/disease_label_encoder_filtered.pkl\n"
     ]
    }
   ],
   "source": [
    "# Trước khi gọi train_test_split\n",
    "if 'y_text' in locals() and not y_text.empty:\n",
    "    value_counts = y_text.value_counts()\n",
    "    to_remove = value_counts[value_counts < 2].index # Lấy tên các bệnh có ít hơn 2 mẫu\n",
    "\n",
    "    if len(to_remove) > 0:\n",
    "        print(f\"\\nCác bệnh sau sẽ bị loại bỏ do có ít hơn 2 mẫu: {list(to_remove)}\")\n",
    "        # Lọc bỏ các hàng có bệnh nằm trong danh sách to_remove\n",
    "        df_filtered = df[~df['diseases'].isin(to_remove)].copy() # Tạo bản sao để tránh SettingWithCopyWarning\n",
    "\n",
    "        if not df_filtered.empty:\n",
    "            X = df_filtered.drop('diseases', axis=1)\n",
    "            y_text_filtered = df_filtered['diseases']\n",
    "\n",
    "            # Mã hóa lại y_text_filtered\n",
    "            label_encoder = LabelEncoder() # Tạo lại hoặc dùng lại encoder nếu bạn muốn giữ mapping cũ (phức tạp hơn)\n",
    "            y = label_encoder.fit_transform(y_text_filtered)\n",
    "\n",
    "            # Lưu lại label_encoder MỚI\n",
    "            joblib.dump(label_encoder, os.path.join(model_dir, 'disease_label_encoder_filtered.pkl'))\n",
    "            print(f\"LabelEncoder MỚI (đã lọc) đã được lưu vào {os.path.join(model_dir, 'disease_label_encoder_filtered.pkl')}\")"
   ]
  },
  {
   "cell_type": "code",
   "execution_count": 6,
   "id": "24f43549",
   "metadata": {},
   "outputs": [
    {
     "name": "stdout",
     "output_type": "stream",
     "text": [
      "\n",
      "Các bệnh sau sẽ bị loại bỏ do có ít hơn 2 mẫu: ['turner syndrome', 'rocky mountain spotted fever', 'open wound of the cheek', 'high blood pressure', 'open wound due to trauma', 'open wound of the chest', 'huntington disease', 'open wound of the knee', 'foreign body in the nose', 'diabetes', 'thalassemia', 'heat stroke', 'gas gangrene', 'typhoid fever', 'open wound of the head', 'myocarditis', 'chronic ulcer', 'hypergammaglobulinemia', 'kaposi sarcoma']\n",
      "LabelEncoder MỚI (đã lọc) đã được lưu vào ../models/disease_label_encoder_filtered.pkl\n",
      "\n",
      "Đã chia dữ liệu thành tập huấn luyện và tập kiểm thử:\n",
      "Kích thước X_train: (197540, 377)\n",
      "Kích thước X_test: (49386, 377)\n",
      "Kích thước y_train: (197540,)\n",
      "Kích thước y_test: (49386,)\n",
      "\n",
      "Phân phối lớp trong y_train:\n",
      "164    0.004936\n",
      "471    0.004931\n",
      "137    0.004931\n",
      "747    0.004931\n",
      "653    0.004926\n",
      "Name: proportion, dtype: float64\n",
      "\n",
      "Phân phối lớp trong y_test:\n",
      "164    0.004941\n",
      "747    0.004941\n",
      "471    0.004941\n",
      "343    0.004920\n",
      "653    0.004920\n",
      "Name: proportion, dtype: float64\n"
     ]
    }
   ],
   "source": [
    "# Trước khi gọi train_test_split\n",
    "if 'y_text' in locals() and not y_text.empty:\n",
    "    value_counts = y_text.value_counts()\n",
    "    to_remove = value_counts[value_counts < 2].index # Lấy tên các bệnh có ít hơn 2 mẫu\n",
    "\n",
    "    if len(to_remove) > 0:\n",
    "        print(f\"\\nCác bệnh sau sẽ bị loại bỏ do có ít hơn 2 mẫu: {list(to_remove)}\")\n",
    "        # Lọc bỏ các hàng có bệnh nằm trong danh sách to_remove\n",
    "        df_filtered = df[~df['diseases'].isin(to_remove)].copy() # Tạo bản sao để tránh SettingWithCopyWarning\n",
    "\n",
    "        if not df_filtered.empty:\n",
    "            X = df_filtered.drop('diseases', axis=1)\n",
    "            y_text_filtered = df_filtered['diseases']\n",
    "\n",
    "            # Mã hóa lại y_text_filtered\n",
    "            label_encoder = LabelEncoder() # Tạo lại hoặc dùng lại encoder nếu bạn muốn giữ mapping cũ (phức tạp hơn)\n",
    "            y = label_encoder.fit_transform(y_text_filtered)\n",
    "\n",
    "            # Lưu lại label_encoder MỚI\n",
    "            joblib.dump(label_encoder, os.path.join(model_dir, 'disease_label_encoder_filtered.pkl'))\n",
    "            print(f\"LabelEncoder MỚI (đã lọc) đã được lưu vào {os.path.join(model_dir, 'disease_label_encoder_filtered.pkl')}\")\n",
    "            \n",
    "            from sklearn.model_selection import train_test_split\n",
    "\n",
    "# Bây giờ mới thực hiện train_test_split với X và y đã lọc\n",
    "            X_train, X_test, y_train, y_test = train_test_split(\n",
    "                X, y,\n",
    "                test_size=0.2,\n",
    "                random_state=42,\n",
    "                stratify=y\n",
    "            )\n",
    "            print(\"\\nĐã chia dữ liệu thành tập huấn luyện và tập kiểm thử:\")\n",
    "            print(\"Kích thước X_train:\", X_train.shape)\n",
    "            print(\"Kích thước X_test:\", X_test.shape)\n",
    "            print(\"Kích thước y_train:\", y_train.shape)\n",
    "            print(\"Kích thước y_test:\", y_test.shape)\n",
    "\n",
    "                        # Kiểm tra phân phối lớp trong tập train và test (tùy chọn nhưng hữu ích)\n",
    "            print(\"\\nPhân phối lớp trong y_train:\")\n",
    "            print(pd.Series(y_train).value_counts(normalize=True).head())\n",
    "            print(\"\\nPhân phối lớp trong y_test:\")\n",
    "            print(pd.Series(y_test).value_counts(normalize=True).head())\n",
    "               \n",
    "    else:\n",
    "            print(\"Sau khi lọc, DataFrame rỗng. Kiểm tra lại ngưỡng lọc.\")\n",
    "else:\n",
    "        print(\"\\nKhông có bệnh nào cần loại bỏ (tất cả các bệnh đều có ít nhất 2 mẫu).\")\n",
    "        # Nếu không có gì để loại bỏ, bạn có thể tiến hành train_test_split với X và y ban đầu (sau khi mã hóa y_text)\n",
    "        # (Đảm bảo y đã được mã hóa từ y_text không bị lọc)\n",
    "        # y = label_encoder.fit_transform(y_text) # Mã hóa lại y_text gốc nếu chưa làm hoặc nếu có thay đổi\n",
    "        X_train, X_test, y_train, y_test = train_test_split(\n",
    "            X, y, # y này là y đã mã hóa từ y_text gốc\n",
    "            test_size=0.2,\n",
    "            random_state=42,\n",
    "            stratify=y\n",
    "        )\n",
    "        print(\"\\nĐã chia dữ liệu (không lọc) thành tập huấn luyện và tập kiểm thử.\")\n",
    "        print(\"Kích thước X_train:\", X_train.shape)\n",
    "        print(\"Kích thước X_test:\", X_test.shape)\n",
    "        print(\"Kích thước y_train:\", y_train.shape)\n",
    "        print(\"Kích thước y_test:\", y_test.shape)"
   ]
  },
  {
   "cell_type": "code",
   "execution_count": 7,
   "id": "082ad2df",
   "metadata": {},
   "outputs": [
    {
     "name": "stdout",
     "output_type": "stream",
     "text": [
      "Đã lưu các tập dữ liệu X_train, X_test, y_train, y_test đã lọc.\n"
     ]
    }
   ],
   "source": [
    "# (Ở cuối notebook tiền xử lý)\n",
    "# Đảm bảo thư mục processed tồn tại\n",
    "import os\n",
    "os.makedirs('../data/processed/', exist_ok=True)\n",
    "\n",
    "pd.DataFrame(X_train, columns=X.columns).to_csv('../data/processed/X_train_filtered.csv', index=False)\n",
    "pd.DataFrame(X_test, columns=X.columns).to_csv('../data/processed/X_test_filtered.csv', index=False)\n",
    "pd.Series(y_train).to_csv('../data/processed/y_train_filtered.csv', index=False, header=['Disease_encoded'])\n",
    "pd.Series(y_test).to_csv('../data/processed/y_test_filtered.csv', index=False, header=['Disease_encoded'])\n",
    "print(\"Đã lưu các tập dữ liệu X_train, X_test, y_train, y_test đã lọc.\")"
   ]
  }
 ],
 "metadata": {
  "kernelspec": {
   "display_name": "Python 3",
   "language": "python",
   "name": "python3"
  },
  "language_info": {
   "codemirror_mode": {
    "name": "ipython",
    "version": 3
   },
   "file_extension": ".py",
   "mimetype": "text/x-python",
   "name": "python",
   "nbconvert_exporter": "python",
   "pygments_lexer": "ipython3",
   "version": "3.11.0"
  }
 },
 "nbformat": 4,
 "nbformat_minor": 5
}
